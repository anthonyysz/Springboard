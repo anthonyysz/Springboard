{
 "cells": [
  {
   "cell_type": "code",
   "execution_count": 1,
   "id": "741bbdc6",
   "metadata": {},
   "outputs": [],
   "source": [
    "import sqlite3 as sql\n",
    "import pandas as pd\n",
    "\n",
    "connection = sql.connect('sqlite_db_pythonsqlite.db')\n",
    "cursor = connection.cursor()"
   ]
  },
  {
   "cell_type": "code",
   "execution_count": 2,
   "id": "cf39af6d",
   "metadata": {},
   "outputs": [
    {
     "name": "stdout",
     "output_type": "stream",
     "text": [
      "Facility   \t Total Revenue\n",
      "Table Tennis \t 180.00\n",
      "Snooker Table \t 240.00\n",
      "Pool Table \t 270.00\n"
     ]
    }
   ],
   "source": [
    "q10 = '''\n",
    "SELECT name, sum(revenue) as total_revenue \n",
    "FROM (SELECT f.name,  \n",
    "       CASE WHEN b.memid > 0 THEN f.membercost * b.slots \n",
    "            ELSE f.guestcost * b.slots END AS revenue\n",
    "FROM Facilities as f \n",
    "INNER JOIN Bookings as b\n",
    "ON b.facid = f.facid) AS s\n",
    "GROUP BY s.name\n",
    "HAVING sum(revenue) < 1000\n",
    "ORDER BY total_revenue;\n",
    "'''\n",
    "\n",
    "cursor.execute(q10)\n",
    "\n",
    "print(\"{0:10s} \\t {1:10s}\".format('Facility', 'Total Revenue'))\n",
    "for res in cursor.fetchall():\n",
    "    print(\"{0:10s} \\t {1:.2f}\".format(*res))"
   ]
  },
  {
   "cell_type": "code",
   "execution_count": 3,
   "id": "6d10bbf5",
   "metadata": {},
   "outputs": [
    {
     "name": "stdout",
     "output_type": "stream",
     "text": [
      "First Name \t Last Name  \t Rec First  \t Rec Last  \n",
      "Florence   \t Bader      \t Ponder     \t Stibbons  \n",
      "Anne       \t Baker      \t Ponder     \t Stibbons  \n",
      "Timothy    \t Baker      \t Jemima     \t Farrell   \n",
      "Tim        \t Boothe     \t Tim        \t Rownam    \n",
      "Gerald     \t Butters    \t Darren     \t Smith     \n",
      "Joan       \t Coplin     \t Timothy    \t Baker     \n",
      "Erica      \t Crumpet    \t Tracy      \t Smith     \n",
      "Nancy      \t Dare       \t Janice     \t Joplette  \n",
      "David      \t Farrell   \n",
      "Jemima     \t Farrell   \n",
      "Matthew    \t Genting    \t Gerald     \t Butters   \n",
      "John       \t Hunt       \t Millicent  \t Purview   \n",
      "David      \t Jones      \t Janice     \t Joplette  \n",
      "Douglas    \t Jones      \t David      \t Jones     \n",
      "Janice     \t Joplette   \t Darren     \t Smith     \n",
      "Anna       \t Mackenzie  \t Darren     \t Smith     \n",
      "Charles    \t Owen       \t Darren     \t Smith     \n",
      "David      \t Pinker     \t Jemima     \t Farrell   \n",
      "Millicent  \t Purview    \t Tracy      \t Smith     \n",
      "Tim        \t Rownam    \n",
      "Henrietta  \t Rumney     \t Matthew    \t Genting   \n",
      "Ramnaresh  \t Sarwin     \t Florence   \t Bader     \n",
      "Darren     \t Smith     \n",
      "Darren     \t Smith     \n",
      "Jack       \t Smith      \t Darren     \t Smith     \n",
      "Tracy      \t Smith     \n",
      "Ponder     \t Stibbons   \t Burton     \t Tracy     \n",
      "Burton     \t Tracy     \n",
      "Hyacinth   \t Tupperware\n",
      "Henry      \t Worthington-Smyth \t Tracy      \t Smith     \n"
     ]
    }
   ],
   "source": [
    "q11 = '''\n",
    "SELECT firstname, surname, (SELECT firstname FROM Members m2 WHERE m2.memid = m1.recommendedby AND m1.recommendedby > 0) AS rec_first, (SELECT surname FROM Members m2 WHERE m2.memid = m1.recommendedby AND m1.recommendedby > 0) AS rec_last\n",
    "FROM Members m1\n",
    "WHERE memid > 0\n",
    "ORDER BY surname, firstname;\n",
    "'''\n",
    "cursor.execute(q11)\n",
    "\n",
    "print(\"{0:10s} \\t {1:10s} \\t {2:10s} \\t {3:10s}\".format('First Name', 'Last Name', 'Rec First', 'Rec Last'))\n",
    "for res in cursor.fetchall():\n",
    "    try:\n",
    "        print(\"{0:10s} \\t {1:10s} \\t {2:10s} \\t {3:10s}\".format(*res))\n",
    "    except:\n",
    "        print(\"{0:10s} \\t {1:10s}\".format(*res))"
   ]
  },
  {
   "cell_type": "code",
   "execution_count": 5,
   "id": "6e1c7bb5",
   "metadata": {},
   "outputs": [
    {
     "name": "stdout",
     "output_type": "stream",
     "text": [
      "Facility        \t Usage     \n",
      "Badminton Court \t 344.00\n",
      "Massage Room 1  \t 421.00\n",
      "Massage Room 2  \t 27.00\n",
      "Pool Table      \t 783.00\n",
      "Snooker Table   \t 421.00\n",
      "Squash Court    \t 195.00\n",
      "Table Tennis    \t 385.00\n",
      "Tennis Court 1  \t 308.00\n",
      "Tennis Court 2  \t 276.00\n"
     ]
    }
   ],
   "source": [
    "q12 = '''\n",
    "SELECT f.name, COUNT(*)\n",
    "FROM Facilities f\n",
    "INNER JOIN Bookings b\n",
    "ON b.facid = f.facid\n",
    "WHERE b.memid > 0\n",
    "GROUP BY f.name;\n",
    "'''\n",
    "cursor.execute(q12)\n",
    "\n",
    "print(\"{0:15s} \\t {1:10s}\".format('Facility', 'Usage'))\n",
    "for res in cursor.fetchall():\n",
    "    print(\"{0:15s} \\t {1:.2f}\".format(*res))"
   ]
  },
  {
   "cell_type": "code",
   "execution_count": 6,
   "id": "30ce8e68",
   "metadata": {},
   "outputs": [
    {
     "name": "stdout",
     "output_type": "stream",
     "text": [
      "Facility        \t Month      \t Usage     \n",
      "Badminton Court \t 2012-07    \t 51.00\n",
      "Badminton Court \t 2012-08    \t 132.00\n",
      "Badminton Court \t 2012-09    \t 161.00\n",
      "Massage Room 1  \t 2012-07    \t 77.00\n",
      "Massage Room 1  \t 2012-08    \t 153.00\n",
      "Massage Room 1  \t 2012-09    \t 191.00\n",
      "Massage Room 2  \t 2012-07    \t 4.00\n",
      "Massage Room 2  \t 2012-08    \t 9.00\n",
      "Massage Room 2  \t 2012-09    \t 14.00\n",
      "Pool Table      \t 2012-07    \t 103.00\n",
      "Pool Table      \t 2012-08    \t 272.00\n",
      "Pool Table      \t 2012-09    \t 408.00\n",
      "Snooker Table   \t 2012-07    \t 68.00\n",
      "Snooker Table   \t 2012-08    \t 154.00\n",
      "Snooker Table   \t 2012-09    \t 199.00\n",
      "Squash Court    \t 2012-07    \t 23.00\n",
      "Squash Court    \t 2012-08    \t 85.00\n",
      "Squash Court    \t 2012-09    \t 87.00\n",
      "Table Tennis    \t 2012-07    \t 48.00\n",
      "Table Tennis    \t 2012-08    \t 143.00\n",
      "Table Tennis    \t 2012-09    \t 194.00\n",
      "Tennis Court 1  \t 2012-07    \t 65.00\n",
      "Tennis Court 1  \t 2012-08    \t 111.00\n",
      "Tennis Court 1  \t 2012-09    \t 132.00\n",
      "Tennis Court 2  \t 2012-07    \t 41.00\n",
      "Tennis Court 2  \t 2012-08    \t 109.00\n",
      "Tennis Court 2  \t 2012-09    \t 126.00\n"
     ]
    }
   ],
   "source": [
    "q13 = '''\n",
    "SELECT f.name, (strftime('%Y-%m', starttime)) AS Month, COUNT(*) AS Uses\n",
    "FROM Facilities f\n",
    "INNER JOIN Bookings b\n",
    "ON b.facid = f.facid\n",
    "WHERE b.memid > 0\n",
    "GROUP BY f.name, Month;\n",
    "'''\n",
    "cursor.execute(q13)\n",
    "\n",
    "print(\"{0:15s} \\t {1:10s} \\t {2:10s}\".format('Facility', 'Month', 'Usage'))\n",
    "for res in cursor.fetchall():\n",
    "    print(\"{0:15s} \\t {1:10s} \\t {2:.2f}\".format(*res))"
   ]
  },
  {
   "cell_type": "code",
   "execution_count": null,
   "id": "2aeb1400",
   "metadata": {},
   "outputs": [],
   "source": []
  }
 ],
 "metadata": {
  "kernelspec": {
   "display_name": "Python 3 (ipykernel)",
   "language": "python",
   "name": "python3"
  },
  "language_info": {
   "codemirror_mode": {
    "name": "ipython",
    "version": 3
   },
   "file_extension": ".py",
   "mimetype": "text/x-python",
   "name": "python",
   "nbconvert_exporter": "python",
   "pygments_lexer": "ipython3",
   "version": "3.9.7"
  }
 },
 "nbformat": 4,
 "nbformat_minor": 5
}
