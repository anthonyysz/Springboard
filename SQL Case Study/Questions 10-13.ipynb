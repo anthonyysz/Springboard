{
 "cells": [
  {
   "cell_type": "code",
   "execution_count": 1,
   "id": "741bbdc6",
   "metadata": {},
   "outputs": [],
   "source": [
    "import sqlite3 as sql\n",
    "import pandas as pd\n",
    "\n",
    "connection = sql.connect('sqlite_db_pythonsqlite.db')\n",
    "cursor = connection.cursor()"
   ]
  },
  {
   "cell_type": "code",
   "execution_count": 2,
   "id": "60ab459d",
   "metadata": {},
   "outputs": [
    {
     "name": "stdout",
     "output_type": "stream",
     "text": [
      "name      \n",
      "Tennis Court 1\n",
      "Tennis Court 2\n",
      "Massage Room 1\n",
      "Massage Room 2\n",
      "Squash Court\n"
     ]
    }
   ],
   "source": [
    "# Q1: Some of the facilities charge a fee to members, but some do not.\n",
    "#Write a SQL query to produce a list of the names of the facilities that do.\n",
    "\n",
    "q1 = '''\n",
    "SELECT name \n",
    "FROM Facilities \n",
    "WHERE membercost > 0;\n",
    "'''\n",
    "cursor.execute(q1)\n",
    "\n",
    "print(\"{0:10s}\".format('name'))\n",
    "for res in cursor.fetchall():\n",
    "    print(\"{0:10s}\".format(*res))\n"
   ]
  },
  {
   "cell_type": "code",
   "execution_count": 3,
   "id": "9523480f",
   "metadata": {},
   "outputs": [
    {
     "name": "stdout",
     "output_type": "stream",
     "text": [
      "Count     \n",
      "4\n"
     ]
    }
   ],
   "source": [
    "# Q2: How many facilities do not charge a fee to members?\n",
    "\n",
    "q2 = '''\n",
    "SELECT COUNT(name) AS Count \n",
    "FROM Facilities \n",
    "WHERE membercost = 0;\n",
    "'''\n",
    "\n",
    "cursor.execute(q2)\n",
    "\n",
    "print(\"{0:10s}\".format('Count'))\n",
    "for res in cursor.fetchall():\n",
    "    print(\"{0:0d}\".format(*res))\n"
   ]
  },
  {
   "cell_type": "code",
   "execution_count": 4,
   "id": "9e1a2622",
   "metadata": {},
   "outputs": [
    {
     "name": "stdout",
     "output_type": "stream",
     "text": [
      "facid \t name            \t membercost \t monthlymaintenance\n",
      "0 \t Tennis Court 1  \t        5.0 \t        200\n",
      "1 \t Tennis Court 2  \t        5.0 \t        200\n",
      "4 \t Massage Room 1  \t        9.9 \t       3000\n",
      "5 \t Massage Room 2  \t        9.9 \t       3000\n",
      "6 \t Squash Court    \t        3.5 \t         80\n"
     ]
    }
   ],
   "source": [
    "# Q3: Write an SQL query to show a list of facilities that charge a fee to members,\n",
    "# where the fee is less than 20% of the facility's monthly maintenance cost.\n",
    "# Return the facid, facility name, member cost, and monthly maintenance of the\n",
    "# facilities in question.\n",
    "\n",
    "q3 = '''\n",
    "SELECT facid, name, membercost, monthlymaintenance \n",
    "FROM Facilities \n",
    "WHERE membercost < (monthlymaintenance * .2) AND membercost > 0;\n",
    "'''\n",
    "\n",
    "cursor.execute(q3)\n",
    "\n",
    "print(\"{0:1s} \\t {1:15s} \\t {2:10s} \\t {3:10s}\".format('facid', 'name', 'membercost', 'monthlymaintenance'))\n",
    "for res in cursor.fetchall():\n",
    "    print(\"{0:1d} \\t {1:15s} \\t {2:10.1f} \\t {3:10d}\".format(*res))\n"
   ]
  },
  {
   "cell_type": "code",
   "execution_count": 5,
   "id": "f0a74bde",
   "metadata": {},
   "outputs": [
    {
     "name": "stdout",
     "output_type": "stream",
     "text": [
      "facid \t name            \t membercost \t guestcost  \t initialoutlay \t monthlymaintenance\n",
      "1 \t Tennis Court 2 \t        5.0 \t       25.0 \t       8000 \t        200\n",
      "5 \t Massage Room 2 \t        9.9 \t       80.0 \t       4000 \t       3000\n"
     ]
    }
   ],
   "source": [
    "# Q4: Write an SQL query to retrieve the details of facilities with ID 1 and 5.\n",
    "# Try writing the query without using the OR operator.\n",
    "\n",
    "q4 = '''\n",
    "SELECT * \n",
    "FROM Facilities \n",
    "WHERE facid IN (1,5);\n",
    "'''\n",
    "\n",
    "cursor.execute(q4)\n",
    "\n",
    "print(\"{0:1s} \\t {1:15s} \\t {2:10s} \\t {3:10s} \\t {4:10s} \\t {5:10s}\".format('facid', 'name', 'membercost', 'guestcost', 'initialoutlay', 'monthlymaintenance'))\n",
    "for res in cursor.fetchall():\n",
    "    print(\"{0:1d} \\t {1:10s} \\t {2:10.1f} \\t {3:10.1f} \\t {4:10d} \\t {5:10d}\".format(*res))"
   ]
  },
  {
   "cell_type": "code",
   "execution_count": 6,
   "id": "4427ba17",
   "metadata": {},
   "outputs": [
    {
     "name": "stdout",
     "output_type": "stream",
     "text": [
      "name            \t monthlymaintenance \t cost      \n",
      "Tennis Court 1  \t             200 \t expensive \n",
      "Tennis Court 2  \t             200 \t expensive \n",
      "Badminton Court \t              50 \t cheap     \n",
      "Table Tennis    \t              10 \t cheap     \n",
      "Massage Room 1  \t            3000 \t expensive \n",
      "Massage Room 2  \t            3000 \t expensive \n",
      "Squash Court    \t              80 \t cheap     \n",
      "Snooker Table   \t              15 \t cheap     \n",
      "Pool Table      \t              15 \t cheap     \n"
     ]
    }
   ],
   "source": [
    "# Q5: Produce a list of facilities, with each labelled as\n",
    "#'cheap' or 'expensive', depending on if their monthly maintenance cost is\n",
    "#more than $100. Return the name and monthly maintenance of the facilities\n",
    "#in question.\n",
    "\n",
    "q5 = '''\n",
    "SELECT name, monthlymaintenance, CASE WHEN monthlymaintenance < 100 THEN 'cheap' ELSE 'expensive' END AS cost \n",
    "FROM Facilities;\n",
    "'''\n",
    "\n",
    "cursor.execute(q5)\n",
    "\n",
    "print(\"{0:15s} \\t {1:15s} \\t {2:10s}\".format('name', 'monthlymaintenance', 'cost'))\n",
    "for res in cursor.fetchall():\n",
    "    print(\"{0:15s} \\t {1:15d} \\t {2:10s}\".format(*res))"
   ]
  },
  {
   "cell_type": "code",
   "execution_count": 7,
   "id": "8938581f",
   "metadata": {},
   "outputs": [
    {
     "name": "stdout",
     "output_type": "stream",
     "text": [
      "firstname  \t surname   \n",
      "Darren     \t Smith     \n"
     ]
    }
   ],
   "source": [
    "# Q6: You'd like to get the first and last name of the last member(s)\n",
    "# who signed up. Try not to use the LIMIT clause for your solution.\n",
    "\n",
    "q6 = '''\n",
    "SELECT firstname, surname \n",
    "FROM Members \n",
    "WHERE joindate IN (SELECT MAX(joindate) FROM Members);\n",
    "'''\n",
    "\n",
    "cursor.execute(q6)\n",
    "\n",
    "print(\"{0:10s} \\t {1:10s}\".format('firstname', 'surname'))\n",
    "for res in cursor.fetchall():\n",
    "    print(\"{0:10s} \\t {1:10s}\".format(*res))"
   ]
  },
  {
   "cell_type": "code",
   "execution_count": 8,
   "id": "d2314a07",
   "metadata": {},
   "outputs": [],
   "source": [
    "# Q7: Produce a list of all members who have used a tennis court.\n",
    "#Include in your output the name of the court, and the name of the member\n",
    "#formatted as a single column. Ensure no duplicate data, and order by\n",
    "#the member name.\n",
    "\n",
    "q7 = '''\n",
    "SELECT DISTINCT CONCAT_WS(' ', m.firstname, m.surname) as Name, f.name as Court\n",
    "FROM Bookings b\n",
    "LEFT JOIN Facilities f USING (facid)\n",
    "LEFT JOIN Members m USING (memid)\n",
    "WHERE b.facid IN (0, 1) AND b.memid > 0\n",
    "ORDER BY Name;\n",
    "'''"
   ]
  },
  {
   "cell_type": "code",
   "execution_count": 9,
   "id": "89a9387c",
   "metadata": {},
   "outputs": [],
   "source": [
    "# Q8: Produce a list of bookings on the day of 2012-09-14 which\n",
    "#will cost the member (or guest) more than $30. Remember that guests have\n",
    "#different costs to members (the listed costs are per half-hour 'slot'), and\n",
    "#the guest user's ID is always 0. Include in your output the name of the\n",
    "#facility, the name of the member formatted as a single column, and the cost.\n",
    "#Order by descending cost, and do not use any subqueries.\n",
    "\n",
    "q8 = '''\n",
    "SELECT CONCAT_WS(' ', firstname, surname) AS Name, name AS Facility, CASE WHEN memid = 0 THEN slots * guestcost ELSE slots * membercost END AS Cost\n",
    "FROM Bookings b\n",
    "LEFT JOIN Facilities f USING (facid)\n",
    "LEFT JOIN Members m USING (memid)\n",
    "WHERE b.starttime LIKE '2012-09-14%' HAVING Cost > 30 \n",
    "ORDER BY Cost DESC;\n",
    "'''"
   ]
  },
  {
   "cell_type": "code",
   "execution_count": 10,
   "id": "8f297284",
   "metadata": {},
   "outputs": [],
   "source": [
    "# Q9: This time, produce the same result as in Q8, but using a subquery.\n",
    "\n",
    "q9 = '''\n",
    "SELECT sq.Name, sq.Facility, sq.Cost\n",
    "FROM (\n",
    "SELECT CONCAT_WS(' ', m.firstname, m.surname ) AS Name, f.name AS Facility, CASE WHEN m.memid = 0 THEN f.guestcost * b.slots ELSE f.membercost * b.slots END AS Cost\n",
    "FROM Members m\n",
    "LEFT JOIN Bookings b USING (memid)\n",
    "LEFT JOIN Facilities f USING (facid)\n",
    "WHERE b.starttime LIKE '2012-09-14%'\n",
    ") AS sq\n",
    "WHERE sq.Cost > 30\n",
    "ORDER BY sq.Cost DESC;\n",
    "'''"
   ]
  },
  {
   "cell_type": "code",
   "execution_count": 11,
   "id": "cf39af6d",
   "metadata": {},
   "outputs": [
    {
     "name": "stdout",
     "output_type": "stream",
     "text": [
      "Facility   \t Total Revenue\n",
      "Table Tennis \t 180.00\n",
      "Snooker Table \t 240.00\n",
      "Pool Table \t 270.00\n"
     ]
    }
   ],
   "source": [
    "# Q10: Produce a list of facilities with a total revenue less than 1000.\n",
    "#The output of facility name and total revenue, sorted by revenue. Remember\n",
    "#that there's a different cost for guests and members!\n",
    "\n",
    "q10 = '''\n",
    "SELECT name, sum(revenue) as total_revenue \n",
    "FROM (SELECT f.name,  \n",
    "       CASE WHEN b.memid > 0 THEN f.membercost * b.slots \n",
    "            ELSE f.guestcost * b.slots END AS revenue\n",
    "FROM Facilities as f \n",
    "INNER JOIN Bookings as b\n",
    "ON b.facid = f.facid) AS s\n",
    "GROUP BY s.name\n",
    "HAVING sum(revenue) < 1000\n",
    "ORDER BY total_revenue;\n",
    "'''\n",
    "\n",
    "cursor.execute(q10)\n",
    "\n",
    "print(\"{0:10s} \\t {1:10s}\".format('Facility', 'Total Revenue'))\n",
    "for res in cursor.fetchall():\n",
    "    print(\"{0:10s} \\t {1:.2f}\".format(*res))"
   ]
  },
  {
   "cell_type": "code",
   "execution_count": 12,
   "id": "6d10bbf5",
   "metadata": {},
   "outputs": [
    {
     "name": "stdout",
     "output_type": "stream",
     "text": [
      "First Name \t Last Name  \t Rec First  \t Rec Last  \n",
      "Florence   \t Bader      \t Ponder     \t Stibbons  \n",
      "Anne       \t Baker      \t Ponder     \t Stibbons  \n",
      "Timothy    \t Baker      \t Jemima     \t Farrell   \n",
      "Tim        \t Boothe     \t Tim        \t Rownam    \n",
      "Gerald     \t Butters    \t Darren     \t Smith     \n",
      "Joan       \t Coplin     \t Timothy    \t Baker     \n",
      "Erica      \t Crumpet    \t Tracy      \t Smith     \n",
      "Nancy      \t Dare       \t Janice     \t Joplette  \n",
      "David      \t Farrell   \n",
      "Jemima     \t Farrell   \n",
      "Matthew    \t Genting    \t Gerald     \t Butters   \n",
      "John       \t Hunt       \t Millicent  \t Purview   \n",
      "David      \t Jones      \t Janice     \t Joplette  \n",
      "Douglas    \t Jones      \t David      \t Jones     \n",
      "Janice     \t Joplette   \t Darren     \t Smith     \n",
      "Anna       \t Mackenzie  \t Darren     \t Smith     \n",
      "Charles    \t Owen       \t Darren     \t Smith     \n",
      "David      \t Pinker     \t Jemima     \t Farrell   \n",
      "Millicent  \t Purview    \t Tracy      \t Smith     \n",
      "Tim        \t Rownam    \n",
      "Henrietta  \t Rumney     \t Matthew    \t Genting   \n",
      "Ramnaresh  \t Sarwin     \t Florence   \t Bader     \n",
      "Darren     \t Smith     \n",
      "Darren     \t Smith     \n",
      "Jack       \t Smith      \t Darren     \t Smith     \n",
      "Tracy      \t Smith     \n",
      "Ponder     \t Stibbons   \t Burton     \t Tracy     \n",
      "Burton     \t Tracy     \n",
      "Hyacinth   \t Tupperware\n",
      "Henry      \t Worthington-Smyth \t Tracy      \t Smith     \n"
     ]
    }
   ],
   "source": [
    "# Q11: Produce a report of members and who recommended them in alphabetic surname,firstname order\n",
    "\n",
    "q11 = '''\n",
    "SELECT firstname, surname, (SELECT firstname FROM Members m2 WHERE m2.memid = m1.recommendedby AND m1.recommendedby > 0) AS rec_first, (SELECT surname FROM Members m2 WHERE m2.memid = m1.recommendedby AND m1.recommendedby > 0) AS rec_last\n",
    "FROM Members m1\n",
    "WHERE memid > 0\n",
    "ORDER BY surname, firstname;\n",
    "'''\n",
    "cursor.execute(q11)\n",
    "\n",
    "print(\"{0:10s} \\t {1:10s} \\t {2:10s} \\t {3:10s}\".format('First Name', 'Last Name', 'Rec First', 'Rec Last'))\n",
    "for res in cursor.fetchall():\n",
    "    try:\n",
    "        print(\"{0:10s} \\t {1:10s} \\t {2:10s} \\t {3:10s}\".format(*res))\n",
    "    except:\n",
    "        print(\"{0:10s} \\t {1:10s}\".format(*res))"
   ]
  },
  {
   "cell_type": "code",
   "execution_count": 13,
   "id": "6e1c7bb5",
   "metadata": {},
   "outputs": [
    {
     "name": "stdout",
     "output_type": "stream",
     "text": [
      "Facility        \t Usage     \n",
      "Badminton Court \t 344.00\n",
      "Massage Room 1  \t 421.00\n",
      "Massage Room 2  \t 27.00\n",
      "Pool Table      \t 783.00\n",
      "Snooker Table   \t 421.00\n",
      "Squash Court    \t 195.00\n",
      "Table Tennis    \t 385.00\n",
      "Tennis Court 1  \t 308.00\n",
      "Tennis Court 2  \t 276.00\n"
     ]
    }
   ],
   "source": [
    "# Q12: Find the facilities with their usage by member, but not guests\n",
    "\n",
    "q12 = '''\n",
    "SELECT f.name, COUNT(*)\n",
    "FROM Facilities f\n",
    "INNER JOIN Bookings b\n",
    "ON b.facid = f.facid\n",
    "WHERE b.memid > 0\n",
    "GROUP BY f.name;\n",
    "'''\n",
    "\n",
    "cursor.execute(q12)\n",
    "\n",
    "print(\"{0:15s} \\t {1:10s}\".format('Facility', 'Usage'))\n",
    "for res in cursor.fetchall():\n",
    "    print(\"{0:15s} \\t {1:.2f}\".format(*res))"
   ]
  },
  {
   "cell_type": "code",
   "execution_count": 14,
   "id": "30ce8e68",
   "metadata": {},
   "outputs": [
    {
     "name": "stdout",
     "output_type": "stream",
     "text": [
      "Facility        \t Month      \t Usage     \n",
      "Badminton Court \t 2012-07    \t 51.00\n",
      "Badminton Court \t 2012-08    \t 132.00\n",
      "Badminton Court \t 2012-09    \t 161.00\n",
      "Massage Room 1  \t 2012-07    \t 77.00\n",
      "Massage Room 1  \t 2012-08    \t 153.00\n",
      "Massage Room 1  \t 2012-09    \t 191.00\n",
      "Massage Room 2  \t 2012-07    \t 4.00\n",
      "Massage Room 2  \t 2012-08    \t 9.00\n",
      "Massage Room 2  \t 2012-09    \t 14.00\n",
      "Pool Table      \t 2012-07    \t 103.00\n",
      "Pool Table      \t 2012-08    \t 272.00\n",
      "Pool Table      \t 2012-09    \t 408.00\n",
      "Snooker Table   \t 2012-07    \t 68.00\n",
      "Snooker Table   \t 2012-08    \t 154.00\n",
      "Snooker Table   \t 2012-09    \t 199.00\n",
      "Squash Court    \t 2012-07    \t 23.00\n",
      "Squash Court    \t 2012-08    \t 85.00\n",
      "Squash Court    \t 2012-09    \t 87.00\n",
      "Table Tennis    \t 2012-07    \t 48.00\n",
      "Table Tennis    \t 2012-08    \t 143.00\n",
      "Table Tennis    \t 2012-09    \t 194.00\n",
      "Tennis Court 1  \t 2012-07    \t 65.00\n",
      "Tennis Court 1  \t 2012-08    \t 111.00\n",
      "Tennis Court 1  \t 2012-09    \t 132.00\n",
      "Tennis Court 2  \t 2012-07    \t 41.00\n",
      "Tennis Court 2  \t 2012-08    \t 109.00\n",
      "Tennis Court 2  \t 2012-09    \t 126.00\n"
     ]
    }
   ],
   "source": [
    "# Q13: Find the facilities usage by month, but not guests\n",
    "\n",
    "q13 = '''\n",
    "SELECT f.name, (strftime('%Y-%m', starttime)) AS Month, COUNT(*) AS Uses\n",
    "FROM Facilities f\n",
    "INNER JOIN Bookings b\n",
    "ON b.facid = f.facid\n",
    "WHERE b.memid > 0\n",
    "GROUP BY f.name, Month;\n",
    "'''\n",
    "\n",
    "cursor.execute(q13)\n",
    "\n",
    "print(\"{0:15s} \\t {1:10s} \\t {2:10s}\".format('Facility', 'Month', 'Usage'))\n",
    "for res in cursor.fetchall():\n",
    "    print(\"{0:15s} \\t {1:10s} \\t {2:.2f}\".format(*res))"
   ]
  }
 ],
 "metadata": {
  "kernelspec": {
   "display_name": "Python 3 (ipykernel)",
   "language": "python",
   "name": "python3"
  },
  "language_info": {
   "codemirror_mode": {
    "name": "ipython",
    "version": 3
   },
   "file_extension": ".py",
   "mimetype": "text/x-python",
   "name": "python",
   "nbconvert_exporter": "python",
   "pygments_lexer": "ipython3",
   "version": "3.9.7"
  }
 },
 "nbformat": 4,
 "nbformat_minor": 5
}
