{
 "cells": [
  {
   "cell_type": "markdown",
   "id": "9b0e3c5b",
   "metadata": {},
   "source": [
    "# Are young people really too lazy to buy homes?"
   ]
  },
  {
   "cell_type": "markdown",
   "id": "419c91bd",
   "metadata": {},
   "source": [
    "Recently, there has been a discourse in the United States regarding the status of the housing market. According to the Population Reference Bureau (PRB), the amount of people ages 20-34 who own homes has dropped from 44% to 34% since 1960 through 2017. In that same span of time however, the amount of people ages 65+ who own homes has grown from 69% to 78%. While there can be a lot of contributing factors to this, I believe that capitalism in the United States has gradually helped older people more and more at the expense of younger people, and that younger people can work just as hard and not make as much money. "
   ]
  },
  {
   "cell_type": "markdown",
   "id": "f087e0ae",
   "metadata": {},
   "source": [
    "# Step 1: Data Wrangling"
   ]
  },
  {
   "cell_type": "markdown",
   "id": "97f6d92e",
   "metadata": {},
   "source": [
    "Here, I will be importing a csv file containing data on adults in the United States as well as their income level. The dataset is from Kaggle and titled Adult income dataset. "
   ]
  },
  {
   "cell_type": "code",
   "execution_count": 1,
   "id": "7fd362ed",
   "metadata": {},
   "outputs": [],
   "source": [
    "import pandas as pd"
   ]
  },
  {
   "cell_type": "code",
   "execution_count": 2,
   "id": "0d532de2",
   "metadata": {},
   "outputs": [],
   "source": [
    "df = pd.read_csv('archive/adult.csv')"
   ]
  },
  {
   "cell_type": "code",
   "execution_count": 3,
   "id": "4867bb67",
   "metadata": {},
   "outputs": [
    {
     "data": {
      "text/plain": [
       "(48842, 15)"
      ]
     },
     "execution_count": 3,
     "metadata": {},
     "output_type": "execute_result"
    }
   ],
   "source": [
    "df.shape"
   ]
  },
  {
   "cell_type": "code",
   "execution_count": 4,
   "id": "f4acb820",
   "metadata": {},
   "outputs": [
    {
     "data": {
      "text/html": [
       "<div>\n",
       "<style scoped>\n",
       "    .dataframe tbody tr th:only-of-type {\n",
       "        vertical-align: middle;\n",
       "    }\n",
       "\n",
       "    .dataframe tbody tr th {\n",
       "        vertical-align: top;\n",
       "    }\n",
       "\n",
       "    .dataframe thead th {\n",
       "        text-align: right;\n",
       "    }\n",
       "</style>\n",
       "<table border=\"1\" class=\"dataframe\">\n",
       "  <thead>\n",
       "    <tr style=\"text-align: right;\">\n",
       "      <th></th>\n",
       "      <th>age</th>\n",
       "      <th>workclass</th>\n",
       "      <th>fnlwgt</th>\n",
       "      <th>education</th>\n",
       "      <th>educational-num</th>\n",
       "      <th>marital-status</th>\n",
       "      <th>occupation</th>\n",
       "      <th>relationship</th>\n",
       "      <th>race</th>\n",
       "      <th>gender</th>\n",
       "      <th>capital-gain</th>\n",
       "      <th>capital-loss</th>\n",
       "      <th>hours-per-week</th>\n",
       "      <th>native-country</th>\n",
       "      <th>income</th>\n",
       "    </tr>\n",
       "  </thead>\n",
       "  <tbody>\n",
       "    <tr>\n",
       "      <th>0</th>\n",
       "      <td>25</td>\n",
       "      <td>Private</td>\n",
       "      <td>226802</td>\n",
       "      <td>11th</td>\n",
       "      <td>7</td>\n",
       "      <td>Never-married</td>\n",
       "      <td>Machine-op-inspct</td>\n",
       "      <td>Own-child</td>\n",
       "      <td>Black</td>\n",
       "      <td>Male</td>\n",
       "      <td>0</td>\n",
       "      <td>0</td>\n",
       "      <td>40</td>\n",
       "      <td>United-States</td>\n",
       "      <td>&lt;=50K</td>\n",
       "    </tr>\n",
       "    <tr>\n",
       "      <th>1</th>\n",
       "      <td>38</td>\n",
       "      <td>Private</td>\n",
       "      <td>89814</td>\n",
       "      <td>HS-grad</td>\n",
       "      <td>9</td>\n",
       "      <td>Married-civ-spouse</td>\n",
       "      <td>Farming-fishing</td>\n",
       "      <td>Husband</td>\n",
       "      <td>White</td>\n",
       "      <td>Male</td>\n",
       "      <td>0</td>\n",
       "      <td>0</td>\n",
       "      <td>50</td>\n",
       "      <td>United-States</td>\n",
       "      <td>&lt;=50K</td>\n",
       "    </tr>\n",
       "    <tr>\n",
       "      <th>2</th>\n",
       "      <td>28</td>\n",
       "      <td>Local-gov</td>\n",
       "      <td>336951</td>\n",
       "      <td>Assoc-acdm</td>\n",
       "      <td>12</td>\n",
       "      <td>Married-civ-spouse</td>\n",
       "      <td>Protective-serv</td>\n",
       "      <td>Husband</td>\n",
       "      <td>White</td>\n",
       "      <td>Male</td>\n",
       "      <td>0</td>\n",
       "      <td>0</td>\n",
       "      <td>40</td>\n",
       "      <td>United-States</td>\n",
       "      <td>&gt;50K</td>\n",
       "    </tr>\n",
       "    <tr>\n",
       "      <th>3</th>\n",
       "      <td>44</td>\n",
       "      <td>Private</td>\n",
       "      <td>160323</td>\n",
       "      <td>Some-college</td>\n",
       "      <td>10</td>\n",
       "      <td>Married-civ-spouse</td>\n",
       "      <td>Machine-op-inspct</td>\n",
       "      <td>Husband</td>\n",
       "      <td>Black</td>\n",
       "      <td>Male</td>\n",
       "      <td>7688</td>\n",
       "      <td>0</td>\n",
       "      <td>40</td>\n",
       "      <td>United-States</td>\n",
       "      <td>&gt;50K</td>\n",
       "    </tr>\n",
       "    <tr>\n",
       "      <th>4</th>\n",
       "      <td>18</td>\n",
       "      <td>?</td>\n",
       "      <td>103497</td>\n",
       "      <td>Some-college</td>\n",
       "      <td>10</td>\n",
       "      <td>Never-married</td>\n",
       "      <td>?</td>\n",
       "      <td>Own-child</td>\n",
       "      <td>White</td>\n",
       "      <td>Female</td>\n",
       "      <td>0</td>\n",
       "      <td>0</td>\n",
       "      <td>30</td>\n",
       "      <td>United-States</td>\n",
       "      <td>&lt;=50K</td>\n",
       "    </tr>\n",
       "  </tbody>\n",
       "</table>\n",
       "</div>"
      ],
      "text/plain": [
       "   age  workclass  fnlwgt     education  educational-num      marital-status  \\\n",
       "0   25    Private  226802          11th                7       Never-married   \n",
       "1   38    Private   89814       HS-grad                9  Married-civ-spouse   \n",
       "2   28  Local-gov  336951    Assoc-acdm               12  Married-civ-spouse   \n",
       "3   44    Private  160323  Some-college               10  Married-civ-spouse   \n",
       "4   18          ?  103497  Some-college               10       Never-married   \n",
       "\n",
       "          occupation relationship   race  gender  capital-gain  capital-loss  \\\n",
       "0  Machine-op-inspct    Own-child  Black    Male             0             0   \n",
       "1    Farming-fishing      Husband  White    Male             0             0   \n",
       "2    Protective-serv      Husband  White    Male             0             0   \n",
       "3  Machine-op-inspct      Husband  Black    Male          7688             0   \n",
       "4                  ?    Own-child  White  Female             0             0   \n",
       "\n",
       "   hours-per-week native-country income  \n",
       "0              40  United-States  <=50K  \n",
       "1              50  United-States  <=50K  \n",
       "2              40  United-States   >50K  \n",
       "3              40  United-States   >50K  \n",
       "4              30  United-States  <=50K  "
      ]
     },
     "execution_count": 4,
     "metadata": {},
     "output_type": "execute_result"
    }
   ],
   "source": [
    "df.head()"
   ]
  },
  {
   "cell_type": "markdown",
   "id": "d3c89b6f",
   "metadata": {},
   "source": [
    "I want there to be consistency regarding each person's level of education, so I will first make the dataset only contain data from people who have completed a Bachelor's degree."
   ]
  },
  {
   "cell_type": "code",
   "execution_count": 5,
   "id": "449a25ff",
   "metadata": {},
   "outputs": [
    {
     "data": {
      "text/plain": [
       "(12110, 15)"
      ]
     },
     "execution_count": 5,
     "metadata": {},
     "output_type": "execute_result"
    }
   ],
   "source": [
    "df = df[df['educational-num'] > 12]\n",
    "df.shape"
   ]
  },
  {
   "cell_type": "code",
   "execution_count": 6,
   "id": "6a0ea7c1",
   "metadata": {},
   "outputs": [
    {
     "data": {
      "text/html": [
       "<div>\n",
       "<style scoped>\n",
       "    .dataframe tbody tr th:only-of-type {\n",
       "        vertical-align: middle;\n",
       "    }\n",
       "\n",
       "    .dataframe tbody tr th {\n",
       "        vertical-align: top;\n",
       "    }\n",
       "\n",
       "    .dataframe thead th {\n",
       "        text-align: right;\n",
       "    }\n",
       "</style>\n",
       "<table border=\"1\" class=\"dataframe\">\n",
       "  <thead>\n",
       "    <tr style=\"text-align: right;\">\n",
       "      <th></th>\n",
       "      <th>age</th>\n",
       "      <th>workclass</th>\n",
       "      <th>fnlwgt</th>\n",
       "      <th>education</th>\n",
       "      <th>educational-num</th>\n",
       "      <th>marital-status</th>\n",
       "      <th>occupation</th>\n",
       "      <th>relationship</th>\n",
       "      <th>race</th>\n",
       "      <th>gender</th>\n",
       "      <th>capital-gain</th>\n",
       "      <th>capital-loss</th>\n",
       "      <th>hours-per-week</th>\n",
       "      <th>native-country</th>\n",
       "      <th>income</th>\n",
       "    </tr>\n",
       "  </thead>\n",
       "  <tbody>\n",
       "    <tr>\n",
       "      <th>7</th>\n",
       "      <td>63</td>\n",
       "      <td>Self-emp-not-inc</td>\n",
       "      <td>104626</td>\n",
       "      <td>Prof-school</td>\n",
       "      <td>15</td>\n",
       "      <td>Married-civ-spouse</td>\n",
       "      <td>Prof-specialty</td>\n",
       "      <td>Husband</td>\n",
       "      <td>White</td>\n",
       "      <td>Male</td>\n",
       "      <td>3103</td>\n",
       "      <td>0</td>\n",
       "      <td>32</td>\n",
       "      <td>United-States</td>\n",
       "      <td>&gt;50K</td>\n",
       "    </tr>\n",
       "    <tr>\n",
       "      <th>11</th>\n",
       "      <td>36</td>\n",
       "      <td>Federal-gov</td>\n",
       "      <td>212465</td>\n",
       "      <td>Bachelors</td>\n",
       "      <td>13</td>\n",
       "      <td>Married-civ-spouse</td>\n",
       "      <td>Adm-clerical</td>\n",
       "      <td>Husband</td>\n",
       "      <td>White</td>\n",
       "      <td>Male</td>\n",
       "      <td>0</td>\n",
       "      <td>0</td>\n",
       "      <td>40</td>\n",
       "      <td>United-States</td>\n",
       "      <td>&lt;=50K</td>\n",
       "    </tr>\n",
       "    <tr>\n",
       "      <th>15</th>\n",
       "      <td>43</td>\n",
       "      <td>Private</td>\n",
       "      <td>346189</td>\n",
       "      <td>Masters</td>\n",
       "      <td>14</td>\n",
       "      <td>Married-civ-spouse</td>\n",
       "      <td>Exec-managerial</td>\n",
       "      <td>Husband</td>\n",
       "      <td>White</td>\n",
       "      <td>Male</td>\n",
       "      <td>0</td>\n",
       "      <td>0</td>\n",
       "      <td>50</td>\n",
       "      <td>United-States</td>\n",
       "      <td>&gt;50K</td>\n",
       "    </tr>\n",
       "    <tr>\n",
       "      <th>19</th>\n",
       "      <td>40</td>\n",
       "      <td>Private</td>\n",
       "      <td>85019</td>\n",
       "      <td>Doctorate</td>\n",
       "      <td>16</td>\n",
       "      <td>Married-civ-spouse</td>\n",
       "      <td>Prof-specialty</td>\n",
       "      <td>Husband</td>\n",
       "      <td>Asian-Pac-Islander</td>\n",
       "      <td>Male</td>\n",
       "      <td>0</td>\n",
       "      <td>0</td>\n",
       "      <td>45</td>\n",
       "      <td>?</td>\n",
       "      <td>&gt;50K</td>\n",
       "    </tr>\n",
       "    <tr>\n",
       "      <th>20</th>\n",
       "      <td>34</td>\n",
       "      <td>Private</td>\n",
       "      <td>107914</td>\n",
       "      <td>Bachelors</td>\n",
       "      <td>13</td>\n",
       "      <td>Married-civ-spouse</td>\n",
       "      <td>Tech-support</td>\n",
       "      <td>Husband</td>\n",
       "      <td>White</td>\n",
       "      <td>Male</td>\n",
       "      <td>0</td>\n",
       "      <td>0</td>\n",
       "      <td>47</td>\n",
       "      <td>United-States</td>\n",
       "      <td>&gt;50K</td>\n",
       "    </tr>\n",
       "  </tbody>\n",
       "</table>\n",
       "</div>"
      ],
      "text/plain": [
       "    age         workclass  fnlwgt    education  educational-num  \\\n",
       "7    63  Self-emp-not-inc  104626  Prof-school               15   \n",
       "11   36       Federal-gov  212465    Bachelors               13   \n",
       "15   43           Private  346189      Masters               14   \n",
       "19   40           Private   85019    Doctorate               16   \n",
       "20   34           Private  107914    Bachelors               13   \n",
       "\n",
       "        marital-status       occupation relationship                race  \\\n",
       "7   Married-civ-spouse   Prof-specialty      Husband               White   \n",
       "11  Married-civ-spouse     Adm-clerical      Husband               White   \n",
       "15  Married-civ-spouse  Exec-managerial      Husband               White   \n",
       "19  Married-civ-spouse   Prof-specialty      Husband  Asian-Pac-Islander   \n",
       "20  Married-civ-spouse     Tech-support      Husband               White   \n",
       "\n",
       "   gender  capital-gain  capital-loss  hours-per-week native-country income  \n",
       "7    Male          3103             0              32  United-States   >50K  \n",
       "11   Male             0             0              40  United-States  <=50K  \n",
       "15   Male             0             0              50  United-States   >50K  \n",
       "19   Male             0             0              45              ?   >50K  \n",
       "20   Male             0             0              47  United-States   >50K  "
      ]
     },
     "execution_count": 6,
     "metadata": {},
     "output_type": "execute_result"
    }
   ],
   "source": [
    "df.head()"
   ]
  },
  {
   "cell_type": "markdown",
   "id": "ed7d1091",
   "metadata": {},
   "source": [
    "Now I want to get rid of the columns we won't be using. I will be exploring income, age, hours per week, and capital gain."
   ]
  },
  {
   "cell_type": "code",
   "execution_count": 7,
   "id": "c62f9b3e",
   "metadata": {},
   "outputs": [
    {
     "data": {
      "text/plain": [
       "(12110, 4)"
      ]
     },
     "execution_count": 7,
     "metadata": {},
     "output_type": "execute_result"
    }
   ],
   "source": [
    "df = df[['age', 'capital-gain', 'hours-per-week', 'income']]\n",
    "df.shape"
   ]
  },
  {
   "cell_type": "code",
   "execution_count": 8,
   "id": "b23fc5f2",
   "metadata": {},
   "outputs": [
    {
     "data": {
      "text/html": [
       "<div>\n",
       "<style scoped>\n",
       "    .dataframe tbody tr th:only-of-type {\n",
       "        vertical-align: middle;\n",
       "    }\n",
       "\n",
       "    .dataframe tbody tr th {\n",
       "        vertical-align: top;\n",
       "    }\n",
       "\n",
       "    .dataframe thead th {\n",
       "        text-align: right;\n",
       "    }\n",
       "</style>\n",
       "<table border=\"1\" class=\"dataframe\">\n",
       "  <thead>\n",
       "    <tr style=\"text-align: right;\">\n",
       "      <th></th>\n",
       "      <th>age</th>\n",
       "      <th>capital-gain</th>\n",
       "      <th>hours-per-week</th>\n",
       "      <th>income</th>\n",
       "    </tr>\n",
       "  </thead>\n",
       "  <tbody>\n",
       "    <tr>\n",
       "      <th>7</th>\n",
       "      <td>63</td>\n",
       "      <td>3103</td>\n",
       "      <td>32</td>\n",
       "      <td>&gt;50K</td>\n",
       "    </tr>\n",
       "    <tr>\n",
       "      <th>11</th>\n",
       "      <td>36</td>\n",
       "      <td>0</td>\n",
       "      <td>40</td>\n",
       "      <td>&lt;=50K</td>\n",
       "    </tr>\n",
       "    <tr>\n",
       "      <th>15</th>\n",
       "      <td>43</td>\n",
       "      <td>0</td>\n",
       "      <td>50</td>\n",
       "      <td>&gt;50K</td>\n",
       "    </tr>\n",
       "    <tr>\n",
       "      <th>19</th>\n",
       "      <td>40</td>\n",
       "      <td>0</td>\n",
       "      <td>45</td>\n",
       "      <td>&gt;50K</td>\n",
       "    </tr>\n",
       "    <tr>\n",
       "      <th>20</th>\n",
       "      <td>34</td>\n",
       "      <td>0</td>\n",
       "      <td>47</td>\n",
       "      <td>&gt;50K</td>\n",
       "    </tr>\n",
       "  </tbody>\n",
       "</table>\n",
       "</div>"
      ],
      "text/plain": [
       "    age  capital-gain  hours-per-week income\n",
       "7    63          3103              32   >50K\n",
       "11   36             0              40  <=50K\n",
       "15   43             0              50   >50K\n",
       "19   40             0              45   >50K\n",
       "20   34             0              47   >50K"
      ]
     },
     "execution_count": 8,
     "metadata": {},
     "output_type": "execute_result"
    }
   ],
   "source": [
    "df.head()"
   ]
  },
  {
   "cell_type": "markdown",
   "id": "977cdf54",
   "metadata": {},
   "source": [
    "Next, I'd like to change the capital-gain column into a binary indicator of whether or not each person made any capital gain during the given year."
   ]
  },
  {
   "cell_type": "code",
   "execution_count": 9,
   "id": "ab8c7f64",
   "metadata": {},
   "outputs": [
    {
     "data": {
      "text/html": [
       "<div>\n",
       "<style scoped>\n",
       "    .dataframe tbody tr th:only-of-type {\n",
       "        vertical-align: middle;\n",
       "    }\n",
       "\n",
       "    .dataframe tbody tr th {\n",
       "        vertical-align: top;\n",
       "    }\n",
       "\n",
       "    .dataframe thead th {\n",
       "        text-align: right;\n",
       "    }\n",
       "</style>\n",
       "<table border=\"1\" class=\"dataframe\">\n",
       "  <thead>\n",
       "    <tr style=\"text-align: right;\">\n",
       "      <th></th>\n",
       "      <th>age</th>\n",
       "      <th>capital-gain</th>\n",
       "      <th>hours-per-week</th>\n",
       "      <th>income</th>\n",
       "    </tr>\n",
       "  </thead>\n",
       "  <tbody>\n",
       "    <tr>\n",
       "      <th>7</th>\n",
       "      <td>63</td>\n",
       "      <td>1</td>\n",
       "      <td>32</td>\n",
       "      <td>&gt;50K</td>\n",
       "    </tr>\n",
       "    <tr>\n",
       "      <th>11</th>\n",
       "      <td>36</td>\n",
       "      <td>0</td>\n",
       "      <td>40</td>\n",
       "      <td>&lt;=50K</td>\n",
       "    </tr>\n",
       "    <tr>\n",
       "      <th>15</th>\n",
       "      <td>43</td>\n",
       "      <td>0</td>\n",
       "      <td>50</td>\n",
       "      <td>&gt;50K</td>\n",
       "    </tr>\n",
       "    <tr>\n",
       "      <th>19</th>\n",
       "      <td>40</td>\n",
       "      <td>0</td>\n",
       "      <td>45</td>\n",
       "      <td>&gt;50K</td>\n",
       "    </tr>\n",
       "    <tr>\n",
       "      <th>20</th>\n",
       "      <td>34</td>\n",
       "      <td>0</td>\n",
       "      <td>47</td>\n",
       "      <td>&gt;50K</td>\n",
       "    </tr>\n",
       "  </tbody>\n",
       "</table>\n",
       "</div>"
      ],
      "text/plain": [
       "    age  capital-gain  hours-per-week income\n",
       "7    63             1              32   >50K\n",
       "11   36             0              40  <=50K\n",
       "15   43             0              50   >50K\n",
       "19   40             0              45   >50K\n",
       "20   34             0              47   >50K"
      ]
     },
     "execution_count": 9,
     "metadata": {},
     "output_type": "execute_result"
    }
   ],
   "source": [
    "df['capital-gain'][df['capital-gain'] > 0] = 1\n",
    "df.head()"
   ]
  },
  {
   "cell_type": "code",
   "execution_count": 10,
   "id": "39e33d7e",
   "metadata": {},
   "outputs": [
    {
     "data": {
      "text/html": [
       "<div>\n",
       "<style scoped>\n",
       "    .dataframe tbody tr th:only-of-type {\n",
       "        vertical-align: middle;\n",
       "    }\n",
       "\n",
       "    .dataframe tbody tr th {\n",
       "        vertical-align: top;\n",
       "    }\n",
       "\n",
       "    .dataframe thead th {\n",
       "        text-align: right;\n",
       "    }\n",
       "</style>\n",
       "<table border=\"1\" class=\"dataframe\">\n",
       "  <thead>\n",
       "    <tr style=\"text-align: right;\">\n",
       "      <th></th>\n",
       "      <th>age</th>\n",
       "      <th>capital-gain</th>\n",
       "      <th>hours-per-week</th>\n",
       "      <th>income</th>\n",
       "    </tr>\n",
       "  </thead>\n",
       "  <tbody>\n",
       "    <tr>\n",
       "      <th>7</th>\n",
       "      <td>63</td>\n",
       "      <td>yes</td>\n",
       "      <td>32</td>\n",
       "      <td>&gt;50K</td>\n",
       "    </tr>\n",
       "    <tr>\n",
       "      <th>11</th>\n",
       "      <td>36</td>\n",
       "      <td>no</td>\n",
       "      <td>40</td>\n",
       "      <td>&lt;=50K</td>\n",
       "    </tr>\n",
       "    <tr>\n",
       "      <th>15</th>\n",
       "      <td>43</td>\n",
       "      <td>no</td>\n",
       "      <td>50</td>\n",
       "      <td>&gt;50K</td>\n",
       "    </tr>\n",
       "    <tr>\n",
       "      <th>19</th>\n",
       "      <td>40</td>\n",
       "      <td>no</td>\n",
       "      <td>45</td>\n",
       "      <td>&gt;50K</td>\n",
       "    </tr>\n",
       "    <tr>\n",
       "      <th>20</th>\n",
       "      <td>34</td>\n",
       "      <td>no</td>\n",
       "      <td>47</td>\n",
       "      <td>&gt;50K</td>\n",
       "    </tr>\n",
       "  </tbody>\n",
       "</table>\n",
       "</div>"
      ],
      "text/plain": [
       "    age capital-gain  hours-per-week income\n",
       "7    63          yes              32   >50K\n",
       "11   36           no              40  <=50K\n",
       "15   43           no              50   >50K\n",
       "19   40           no              45   >50K\n",
       "20   34           no              47   >50K"
      ]
     },
     "execution_count": 10,
     "metadata": {},
     "output_type": "execute_result"
    }
   ],
   "source": [
    "df['capital-gain'] = df['capital-gain'].replace([0], ['no'])\n",
    "df['capital-gain'] = df['capital-gain'].replace([1], ['yes'])\n",
    "df.head()"
   ]
  },
  {
   "cell_type": "markdown",
   "id": "04c6181c",
   "metadata": {},
   "source": [
    "I also want to narrow in on people working more than 20 hours a week."
   ]
  },
  {
   "cell_type": "code",
   "execution_count": 11,
   "id": "f51bf3b4",
   "metadata": {},
   "outputs": [
    {
     "data": {
      "text/html": [
       "<div>\n",
       "<style scoped>\n",
       "    .dataframe tbody tr th:only-of-type {\n",
       "        vertical-align: middle;\n",
       "    }\n",
       "\n",
       "    .dataframe tbody tr th {\n",
       "        vertical-align: top;\n",
       "    }\n",
       "\n",
       "    .dataframe thead th {\n",
       "        text-align: right;\n",
       "    }\n",
       "</style>\n",
       "<table border=\"1\" class=\"dataframe\">\n",
       "  <thead>\n",
       "    <tr style=\"text-align: right;\">\n",
       "      <th></th>\n",
       "      <th>age</th>\n",
       "      <th>capital-gain</th>\n",
       "      <th>hours-per-week</th>\n",
       "      <th>income</th>\n",
       "    </tr>\n",
       "  </thead>\n",
       "  <tbody>\n",
       "    <tr>\n",
       "      <th>7</th>\n",
       "      <td>63</td>\n",
       "      <td>yes</td>\n",
       "      <td>32</td>\n",
       "      <td>&gt;50K</td>\n",
       "    </tr>\n",
       "    <tr>\n",
       "      <th>11</th>\n",
       "      <td>36</td>\n",
       "      <td>no</td>\n",
       "      <td>40</td>\n",
       "      <td>&lt;=50K</td>\n",
       "    </tr>\n",
       "    <tr>\n",
       "      <th>15</th>\n",
       "      <td>43</td>\n",
       "      <td>no</td>\n",
       "      <td>50</td>\n",
       "      <td>&gt;50K</td>\n",
       "    </tr>\n",
       "    <tr>\n",
       "      <th>19</th>\n",
       "      <td>40</td>\n",
       "      <td>no</td>\n",
       "      <td>45</td>\n",
       "      <td>&gt;50K</td>\n",
       "    </tr>\n",
       "    <tr>\n",
       "      <th>20</th>\n",
       "      <td>34</td>\n",
       "      <td>no</td>\n",
       "      <td>47</td>\n",
       "      <td>&gt;50K</td>\n",
       "    </tr>\n",
       "  </tbody>\n",
       "</table>\n",
       "</div>"
      ],
      "text/plain": [
       "    age capital-gain  hours-per-week income\n",
       "7    63          yes              32   >50K\n",
       "11   36           no              40  <=50K\n",
       "15   43           no              50   >50K\n",
       "19   40           no              45   >50K\n",
       "20   34           no              47   >50K"
      ]
     },
     "execution_count": 11,
     "metadata": {},
     "output_type": "execute_result"
    }
   ],
   "source": [
    "df = df[df['hours-per-week'] > 20]\n",
    "df.head()"
   ]
  },
  {
   "cell_type": "markdown",
   "id": "2fcf1816",
   "metadata": {},
   "source": [
    "Finally, I just want to make sure there are no missing cells. In the case of a missing piece of data, that row will be dropped. If there is no missing data, it'll be time to move onto EDA."
   ]
  },
  {
   "cell_type": "code",
   "execution_count": 12,
   "id": "32328fcd",
   "metadata": {},
   "outputs": [
    {
     "data": {
      "text/html": [
       "<div>\n",
       "<style scoped>\n",
       "    .dataframe tbody tr th:only-of-type {\n",
       "        vertical-align: middle;\n",
       "    }\n",
       "\n",
       "    .dataframe tbody tr th {\n",
       "        vertical-align: top;\n",
       "    }\n",
       "\n",
       "    .dataframe thead th {\n",
       "        text-align: right;\n",
       "    }\n",
       "</style>\n",
       "<table border=\"1\" class=\"dataframe\">\n",
       "  <thead>\n",
       "    <tr style=\"text-align: right;\">\n",
       "      <th></th>\n",
       "      <th>count</th>\n",
       "      <th>%</th>\n",
       "    </tr>\n",
       "  </thead>\n",
       "  <tbody>\n",
       "    <tr>\n",
       "      <th>age</th>\n",
       "      <td>0</td>\n",
       "      <td>0.0</td>\n",
       "    </tr>\n",
       "    <tr>\n",
       "      <th>capital-gain</th>\n",
       "      <td>0</td>\n",
       "      <td>0.0</td>\n",
       "    </tr>\n",
       "    <tr>\n",
       "      <th>hours-per-week</th>\n",
       "      <td>0</td>\n",
       "      <td>0.0</td>\n",
       "    </tr>\n",
       "    <tr>\n",
       "      <th>income</th>\n",
       "      <td>0</td>\n",
       "      <td>0.0</td>\n",
       "    </tr>\n",
       "  </tbody>\n",
       "</table>\n",
       "</div>"
      ],
      "text/plain": [
       "                count    %\n",
       "age                 0  0.0\n",
       "capital-gain        0  0.0\n",
       "hours-per-week      0  0.0\n",
       "income              0  0.0"
      ]
     },
     "execution_count": 12,
     "metadata": {},
     "output_type": "execute_result"
    }
   ],
   "source": [
    "missing = pd.concat([df.isnull().sum(), 100 * df.isnull().mean()], axis=1)\n",
    "missing.columns=['count', '%']\n",
    "missing.sort_values(by='count', ascending = False)"
   ]
  },
  {
   "cell_type": "markdown",
   "id": "feca9224",
   "metadata": {},
   "source": [
    "# Step 2: Exploratory Data Analysis"
   ]
  },
  {
   "cell_type": "code",
   "execution_count": 13,
   "id": "d0728836",
   "metadata": {},
   "outputs": [],
   "source": [
    "import seaborn as sns\n",
    "import matplotlib.pyplot as plt"
   ]
  },
  {
   "cell_type": "code",
   "execution_count": 14,
   "id": "754953cb",
   "metadata": {},
   "outputs": [
    {
     "data": {
      "image/png": "[encoded data removed]",
      "text/plain": [
       "<Figure size 432x288 with 1 Axes>"
      ]
     },
     "metadata": {
      "needs_background": "light"
     },
     "output_type": "display_data"
    }
   ],
   "source": [
    "sns.scatterplot(data=df, x=\"hours-per-week\", y=\"age\", hue=\"income\")\n",
    "plt.show()"
   ]
  },
  {
   "cell_type": "markdown",
   "id": "cf3aca56",
   "metadata": {},
   "source": [
    "It's difficult to draw very concrete conclusions from this initial scatterplot. We can start to see traces of a trend as we focus specifically on the bottom of the chart. There is a great cluster of orange datapoints below 30 years old and up to about 50 hours a week, all indicating persons who make less than $50,000 in a year. "
   ]
  },
  {
   "cell_type": "code",
   "execution_count": 15,
   "id": "87c062e6",
   "metadata": {},
   "outputs": [
    {
     "data": {
      "image/png": "[encoded data removed]",
      "text/plain": [
       "<Figure size 432x288 with 1 Axes>"
      ]
     },
     "metadata": {
      "needs_background": "light"
     },
     "output_type": "display_data"
    }
   ],
   "source": [
    "sns.scatterplot(data=df, x=\"hours-per-week\", y=\"age\", hue=\"capital-gain\")\n",
    "plt.show()"
   ]
  },
  {
   "cell_type": "markdown",
   "id": "3502b791",
   "metadata": {},
   "source": [
    "Once again, the indicators of capital gain seem to gain frequency as you move up in the chart, but it is tough to tell for sure. At first glance, these two charts support my hypothesis to some extent, but I'd like something more definitive."
   ]
  },
  {
   "cell_type": "markdown",
   "id": "1e55cebb",
   "metadata": {},
   "source": [
    "# Step 3: Machine Learning"
   ]
  },
  {
   "cell_type": "markdown",
   "id": "062b1372",
   "metadata": {},
   "source": [
    "Here, I am going to use a Gradient Boosting model to predict whether a person will make more than $50,000 based on their age and how many hours a week they work."
   ]
  },
  {
   "cell_type": "code",
   "execution_count": 16,
   "id": "0c10abec",
   "metadata": {},
   "outputs": [],
   "source": [
    "X = df[['age', 'hours-per-week', 'capital-gain']]\n",
    "y = df['income'][df['age']< 35].values\n",
    "\n",
    "X = pd.get_dummies(X)"
   ]
  },
  {
   "cell_type": "code",
   "execution_count": 17,
   "id": "f4e52c31",
   "metadata": {},
   "outputs": [],
   "source": [
    "from sklearn.model_selection import train_test_split\n",
    "\n",
    "X1_train, X1_test, y1_train, y1_test = train_test_split(X[X['age'] < 35], y, test_size = .25, random_state = 246)"
   ]
  },
  {
   "cell_type": "code",
   "execution_count": 18,
   "id": "b2ce0bcd",
   "metadata": {},
   "outputs": [
    {
     "name": "stdout",
     "output_type": "stream",
     "text": [
      "Learning rate:  0.05\n",
      "Accuracy score (training): 0.772\n",
      "Accuracy score (validation): 0.760\n",
      "\n",
      "Learning rate:  0.1\n",
      "Accuracy score (training): 0.775\n",
      "Accuracy score (validation): 0.765\n",
      "\n",
      "Learning rate:  0.25\n",
      "Accuracy score (training): 0.782\n",
      "Accuracy score (validation): 0.744\n",
      "\n",
      "Learning rate:  0.5\n",
      "Accuracy score (training): 0.784\n",
      "Accuracy score (validation): 0.751\n",
      "\n",
      "Learning rate:  0.75\n",
      "Accuracy score (training): 0.785\n",
      "Accuracy score (validation): 0.752\n",
      "\n",
      "Learning rate:  1\n",
      "Accuracy score (training): 0.786\n",
      "Accuracy score (validation): 0.756\n",
      "\n",
      "Learning rate:  1.25\n",
      "Accuracy score (training): 0.782\n",
      "Accuracy score (validation): 0.748\n",
      "\n"
     ]
    }
   ],
   "source": [
    "from sklearn.ensemble import GradientBoostingClassifier\n",
    "\n",
    "learning_rates = [0.05, 0.1, 0.25, 0.5, 0.75, 1, 1.25]\n",
    "for learning_rate in learning_rates:\n",
    "    gb = GradientBoostingClassifier(n_estimators=200, learning_rate = learning_rate, max_features=2, random_state = 246)\n",
    "    gb.fit(X1_train, y1_train)\n",
    "    print(\"Learning rate: \", learning_rate)\n",
    "    print(\"Accuracy score (training): {0:.3f}\".format(gb.score(X1_train, y1_train)))\n",
    "    print(\"Accuracy score (validation): {0:.3f}\".format(gb.score(X1_test, y1_test)))\n",
    "    print()"
   ]
  },
  {
   "cell_type": "code",
   "execution_count": 19,
   "id": "ea471a37",
   "metadata": {},
   "outputs": [
    {
     "data": {
      "image/png": "[encoded data removed]",
      "text/plain": [
       "<Figure size 432x288 with 2 Axes>"
      ]
     },
     "metadata": {
      "needs_background": "light"
     },
     "output_type": "display_data"
    }
   ],
   "source": [
    "from sklearn.metrics import plot_confusion_matrix\n",
    "gb = GradientBoostingClassifier(n_estimators=200, learning_rate = 1, max_features=2, random_state = 246)\n",
    "gb.fit(X1_test, y1_test)\n",
    "y1_pred = gb.predict(X1_test)\n",
    "\n",
    "plot_confusion_matrix(gb, X1_test, y1_test)\n",
    "plt.show()"
   ]
  },
  {
   "cell_type": "markdown",
   "id": "10317411",
   "metadata": {},
   "source": [
    "Around 20.5% of correctly predicted people (161/787) under the age of 35 are making over $50,000. Now lets see how it looks for people above the age of 35. "
   ]
  },
  {
   "cell_type": "code",
   "execution_count": 20,
   "id": "dc322cd1",
   "metadata": {},
   "outputs": [],
   "source": [
    "y2 = df['income'][df['age']> 35].values\n",
    "\n",
    "X2_train, X2_test, y2_train, y2_test = train_test_split(X[X['age'] > 35], y2, test_size = .25, random_state = 246)"
   ]
  },
  {
   "cell_type": "code",
   "execution_count": 21,
   "id": "8e3f8a0a",
   "metadata": {},
   "outputs": [
    {
     "name": "stdout",
     "output_type": "stream",
     "text": [
      "Learning rate:  0.05\n",
      "Accuracy score (training): 0.669\n",
      "Accuracy score (validation): 0.639\n",
      "\n",
      "Learning rate:  0.1\n",
      "Accuracy score (training): 0.674\n",
      "Accuracy score (validation): 0.641\n",
      "\n",
      "Learning rate:  0.25\n",
      "Accuracy score (training): 0.681\n",
      "Accuracy score (validation): 0.636\n",
      "\n",
      "Learning rate:  0.5\n",
      "Accuracy score (training): 0.685\n",
      "Accuracy score (validation): 0.633\n",
      "\n",
      "Learning rate:  0.75\n",
      "Accuracy score (training): 0.689\n",
      "Accuracy score (validation): 0.629\n",
      "\n",
      "Learning rate:  1\n",
      "Accuracy score (training): 0.691\n",
      "Accuracy score (validation): 0.619\n",
      "\n",
      "Learning rate:  1.25\n",
      "Accuracy score (training): 0.691\n",
      "Accuracy score (validation): 0.603\n",
      "\n"
     ]
    }
   ],
   "source": [
    "learning_rates = [0.05, 0.1, 0.25, 0.5, 0.75, 1, 1.25]\n",
    "for learning_rate in learning_rates:\n",
    "    gb = GradientBoostingClassifier(n_estimators=200, learning_rate = learning_rate, max_features=2, random_state = 246)\n",
    "    gb.fit(X2_train, y2_train)\n",
    "    print(\"Learning rate: \", learning_rate)\n",
    "    print(\"Accuracy score (training): {0:.3f}\".format(gb.score(X2_train, y2_train)))\n",
    "    print(\"Accuracy score (validation): {0:.3f}\".format(gb.score(X2_test, y2_test)))\n",
    "    print()"
   ]
  },
  {
   "cell_type": "code",
   "execution_count": 23,
   "id": "6564fcc3",
   "metadata": {},
   "outputs": [
    {
     "data": {
      "image/png": "[encoded data removed]",
      "text/plain": [
       "<Figure size 432x288 with 2 Axes>"
      ]
     },
     "metadata": {
      "needs_background": "light"
     },
     "output_type": "display_data"
    }
   ],
   "source": [
    "from sklearn.metrics import plot_confusion_matrix\n",
    "gb = GradientBoostingClassifier(n_estimators=200, learning_rate = .5, max_features=2, random_state = 246)\n",
    "gb.fit(X2_test, y2_test)\n",
    "y2_pred = gb.predict(X2_test)\n",
    "\n",
    "plot_confusion_matrix(gb, X2_test, y2_test)\n",
    "plt.show()"
   ]
  },
  {
   "cell_type": "markdown",
   "id": "160b3f48",
   "metadata": {},
   "source": [
    "Interestingly, this predictor is much less accurate than the one for younger people. We know that people who have been working for longer are more likely to get a better paying position, so that could be a large contributing factor. Simultaneously, just above 72% (934/1297) of correctly predicted people had an income of above $50,000"
   ]
  },
  {
   "cell_type": "markdown",
   "id": "00b64131",
   "metadata": {},
   "source": [
    "# Step 4: Analysis"
   ]
  },
  {
   "cell_type": "markdown",
   "id": "de8f4198",
   "metadata": {},
   "source": [
    "Knowing that less and less young people are buying houses in the United States, it is apparent that there is a wage gap affecting one's ability to own a home. I think that is because of a wage gap in our economic system that very heavily favors seniority over work ethic. we can clearly see that a person over 35 has a great advantage in homebuying since they will very frequently make more money. A younger person must work much harder in this currect economy in order to make above $50,000 a year, nevermind own a home. It's just not fair to those people to call them lazy if they can't afford a house in this market. "
   ]
  }
 ],
 "metadata": {
  "kernelspec": {
   "display_name": "Python 3 (ipykernel)",
   "language": "python",
   "name": "python3"
  },
  "language_info": {
   "codemirror_mode": {
    "name": "ipython",
    "version": 3
   },
   "file_extension": ".py",
   "mimetype": "text/x-python",
   "name": "python",
   "nbconvert_exporter": "python",
   "pygments_lexer": "ipython3",
   "version": "3.9.7"
  }
 },
 "nbformat": 4,
 "nbformat_minor": 5
}
